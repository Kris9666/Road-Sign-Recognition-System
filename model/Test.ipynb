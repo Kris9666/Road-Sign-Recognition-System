{
 "cells": [
  {
   "cell_type": "code",
   "execution_count": 35,
   "id": "dbbdaf57",
   "metadata": {},
   "outputs": [],
   "source": [
    "import joblib\n",
    "import cv2\n",
    "import numpy as np\n",
    "import json\n",
    "import matplotlib.pyplot as plt\n",
    "%matplotlib inline"
   ]
  },
  {
   "cell_type": "code",
   "execution_count": 36,
   "id": "c992880a",
   "metadata": {},
   "outputs": [],
   "source": [
    "with open(\"./saved_model.pkl\", \"rb\") as f:\n",
    "    model = joblib.load(f)"
   ]
  },
  {
   "cell_type": "code",
   "execution_count": 50,
   "id": "b578c386",
   "metadata": {},
   "outputs": [
    {
     "data": {
      "text/plain": [
       "<matplotlib.image.AxesImage at 0x1d5a70f1b50>"
      ]
     },
     "execution_count": 50,
     "metadata": {},
     "output_type": "execute_result"
    },
    {
     "data": {
      "image/png": "[encoded data removed]",
      "text/plain": [
       "<Figure size 432x288 with 1 Axes>"
      ]
     },
     "metadata": {
      "needs_background": "light"
     },
     "output_type": "display_data"
    }
   ],
   "source": [
    "test_image = cv2.imread(\"./dataset/Test/00004.png\")\n",
    "plt.imshow(test_image)"
   ]
  },
  {
   "cell_type": "code",
   "execution_count": 51,
   "id": "b7970933",
   "metadata": {},
   "outputs": [
    {
     "name": "stdout",
     "output_type": "stream",
     "text": [
      "1/1 [==============================] - 0s 49ms/step\n"
     ]
    }
   ],
   "source": [
    "test_image = cv2.resize(test_image, (30,30))\n",
    "test_image = np.expand_dims(test_image, axis=0)\n",
    "res = model.predict(test_image)[0]"
   ]
  },
  {
   "cell_type": "code",
   "execution_count": 52,
   "id": "13f9f9bf",
   "metadata": {},
   "outputs": [
    {
     "name": "stdout",
     "output_type": "stream",
     "text": [
      "11\n"
     ]
    }
   ],
   "source": [
    "res = np.argmax(res)\n",
    "print(res)"
   ]
  },
  {
   "cell_type": "code",
   "execution_count": 55,
   "id": "a29dc42b",
   "metadata": {},
   "outputs": [],
   "source": [
    "with open(\"./labels.json\", \"r\") as f:\n",
    "    class_num = json.load(f)\n",
    "    class_name = {v:k for k,v in class_num.items()}"
   ]
  },
  {
   "cell_type": "code",
   "execution_count": 54,
   "id": "3dd319eb",
   "metadata": {},
   "outputs": [
    {
     "ename": "KeyError",
     "evalue": "11",
     "output_type": "error",
     "traceback": [
      "\u001b[1;31m---------------------------------------------------------------------------\u001b[0m",
      "\u001b[1;31mKeyError\u001b[0m                                  Traceback (most recent call last)",
      "\u001b[1;32m<ipython-input-54-df3f26afb3bc>\u001b[0m in \u001b[0;36m<module>\u001b[1;34m\u001b[0m\n\u001b[1;32m----> 1\u001b[1;33m \u001b[0mclass_num\u001b[0m\u001b[1;33m[\u001b[0m\u001b[0mres\u001b[0m\u001b[1;33m]\u001b[0m\u001b[1;33m\u001b[0m\u001b[1;33m\u001b[0m\u001b[0m\n\u001b[0m",
      "\u001b[1;31mKeyError\u001b[0m: 11"
     ]
    }
   ],
   "source": [
    "class_num[res]"
   ]
  },
  {
   "cell_type": "code",
   "execution_count": 58,
   "id": "068f9c59",
   "metadata": {},
   "outputs": [
    {
     "data": {
      "text/plain": [
       "'Right-of-way at intersection'"
      ]
     },
     "execution_count": 58,
     "metadata": {},
     "output_type": "execute_result"
    }
   ],
   "source": [
    "class_name[res+1]"
   ]
  },
  {
   "cell_type": "code",
   "execution_count": 24,
   "id": "95bb6d99",
   "metadata": {},
   "outputs": [
    {
     "data": {
      "text/plain": [
       "'Right-of-way at intersection'"
      ]
     },
     "execution_count": 24,
     "metadata": {},
     "output_type": "execute_result"
    }
   ],
   "source": [
    "class_num['12']"
   ]
  },
  {
   "cell_type": "code",
   "execution_count": null,
   "id": "102963e3",
   "metadata": {},
   "outputs": [],
   "source": []
  }
 ],
 "metadata": {
  "kernelspec": {
   "display_name": "Python 3",
   "language": "python",
   "name": "python3"
  },
  "language_info": {
   "codemirror_mode": {
    "name": "ipython",
    "version": 3
   },
   "file_extension": ".py",
   "mimetype": "text/x-python",
   "name": "python",
   "nbconvert_exporter": "python",
   "pygments_lexer": "ipython3",
   "version": "3.9.4"
  }
 },
 "nbformat": 4,
 "nbformat_minor": 5
}
